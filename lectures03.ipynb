{
 "cells": [
  {
   "cell_type": "markdown",
   "metadata": {},
   "source": [
    "## CS2101 - Programming for Science and Finance\n",
    "Prof. Götz Pfeiffer<br />\n",
    "School of Mathematical and Statistical Sciences<br />\n",
    "University of Galway\n",
    "\n",
    "***"
   ]
  },
  {
   "cell_type": "markdown",
   "metadata": {},
   "source": [
    "### Objects and Classes\n",
    "# Week 3: Objects and Classes"
   ]
  },
  {
   "cell_type": "markdown",
   "metadata": {},
   "source": [
    "![objects](images/objects.jpg)"
   ]
  },
  {
   "cell_type": "markdown",
   "metadata": {},
   "source": [
    "* Classes bundle data and functionality.\n",
    "* A new class in python means a new data type.\n",
    "* An instance of that type is called an **object** of that type.\n",
    "* An object usually has a data stored in its attributes.\n",
    "* Objects can avail of methods for modifying their data.\n",
    "* These methods are defined in an object's class.\n",
    "* In python, most builtin operators with special syntax (e.g., `+`) can be redefined for objects."
   ]
  },
  {
   "cell_type": "markdown",
   "metadata": {},
   "source": [
    "## Class Definitions"
   ]
  },
  {
   "cell_type": "markdown",
   "metadata": {},
   "source": [
    "* Python makes it easy to introduce new, user defined data types.\n",
    "* All you need is a **name** for your type and a class defintion.\n",
    "* A **class definition** consists of a header, followed by a block of statements:\n",
    "  ```python\n",
    "  class <name-of-class> :\n",
    "      <block>\n",
    "  ```\n",
    "* By convention, a class name starts with a Capital letter."
   ]
  },
  {
   "cell_type": "markdown",
   "metadata": {},
   "source": [
    "* **Example.**  Suppose we need to deal with a lot of **time** data, and we want to design a data type for this.\n",
    "* That is: time measurements, as in $52.16$ seconds in the olympic 100 meters freestyle.  As opposed to time stamps like today at 11am.\n",
    "* A good descriptive name for the class might be `Time`.\n",
    "* A `Time` object then could be described by 3 **attributes**: `hours`, `minutes`, `seconds`. "
   ]
  },
  {
   "cell_type": "code",
   "execution_count": null,
   "metadata": {},
   "outputs": [],
   "source": [
    "class Time:\n",
    "    pass"
   ]
  },
  {
   "cell_type": "markdown",
   "metadata": {},
   "source": [
    "* Now we can create a new object of type `Time` by simply calling the class as a function."
   ]
  },
  {
   "cell_type": "code",
   "execution_count": null,
   "metadata": {},
   "outputs": [],
   "source": [
    "lap = Time()\n",
    "print(lap)"
   ]
  },
  {
   "cell_type": "markdown",
   "metadata": {},
   "source": [
    "* Suppose `lap` is $1:02:05.8$, i.e., $1$ hour, $2$ minutes and $5.8$ seconds.\n",
    "* We can assign values to the attributes like this."
   ]
  },
  {
   "cell_type": "code",
   "execution_count": null,
   "metadata": {},
   "outputs": [],
   "source": [
    "lap.hours = 1\n",
    "lap.minutes = 2\n",
    "lap.seconds = 5.8"
   ]
  },
  {
   "cell_type": "code",
   "execution_count": null,
   "metadata": {},
   "outputs": [],
   "source": [
    "lap"
   ]
  },
  {
   "cell_type": "code",
   "execution_count": null,
   "metadata": {},
   "outputs": [],
   "source": [
    "lap.hours, lap.minutes, lap.seconds"
   ]
  },
  {
   "cell_type": "markdown",
   "metadata": {},
   "source": [
    "## Methods"
   ]
  },
  {
   "cell_type": "markdown",
   "metadata": {},
   "source": [
    "* It might be useful to have a way to set up a time object from the `hours, minutes, seconds` information in one go.\n",
    "* A function that does this might look as follows.  **Note that there are better ways to do this!**"
   ]
  },
  {
   "cell_type": "code",
   "execution_count": null,
   "metadata": {},
   "outputs": [],
   "source": [
    "def init_time(hours, minutes, seconds):\n",
    "    time = Time()\n",
    "    time.hours = hours\n",
    "    time.minutes = minutes\n",
    "    time.seconds = seconds\n",
    "    return time"
   ]
  },
  {
   "cell_type": "code",
   "execution_count": null,
   "metadata": {},
   "outputs": [],
   "source": [
    "lap = init_time(1, 2, 5.8)\n",
    "print(lap)\n",
    "lap.hours, lap.minutes, lap.seconds"
   ]
  },
  {
   "cell_type": "markdown",
   "metadata": {},
   "source": [
    "* Usually, a class definition consist of a number of methods, which define the behaviour of the objects of this class.\n",
    "* Methods are like functions, except that their first argument, usually called `self`, refers to an object of the class."
   ]
  },
  {
   "cell_type": "markdown",
   "metadata": {},
   "source": [
    "### Special Methods\n",
    "\n",
    "* Some methods are **special**, serving a particular pre-defined purpose.\n",
    "* A special method can be recognized by its **dunder** name:  it starts and ends with a **double underscore**."
   ]
  },
  {
   "cell_type": "markdown",
   "metadata": {},
   "source": [
    "* Initialization of an object should be part of the behaviour defined in the object's class.\n",
    "* The special method `__init__` can be used to **initialize** objects, e.g., to assign values to its attribute components.\n",
    "* `__init__` does not return a value.  Never.\n",
    "* But `__init__`  should be defined as part of the `Time` class."
   ]
  },
  {
   "cell_type": "code",
   "execution_count": null,
   "metadata": {},
   "outputs": [],
   "source": [
    "class Time:\n",
    "    def __init__(self, hours, minutes, seconds):\n",
    "        self.hours = hours\n",
    "        self.minutes = minutes\n",
    "        self.seconds = seconds"
   ]
  },
  {
   "cell_type": "markdown",
   "metadata": {},
   "source": [
    "* Note how `self` is the name of the first parameter, in addition to the $3$ data parameters `hours`, `minutes`, and `seconds`.\n",
    "* Here, `self` refers to the new object to be initialized.\n",
    "* A `Time` object can now be created by calling the class as a function, with values provided for the data parameters only (but not for `self`)."
   ]
  },
  {
   "cell_type": "code",
   "execution_count": null,
   "metadata": {},
   "outputs": [],
   "source": [
    "lap = Time(1, 2, 5.8)\n",
    "print(lap)\n",
    "lap.hours, lap.minutes, lap.seconds"
   ]
  },
  {
   "cell_type": "markdown",
   "metadata": {},
   "source": [
    "* That's a rather awkward way of accessing the object's data ..."
   ]
  },
  {
   "cell_type": "markdown",
   "metadata": {},
   "source": [
    "### Printing Objects\n",
    "\n",
    "* Wouldn't it be nice to have a way to print a `Time` object compactly, together with its attributes?\n",
    "* A function that does this might look as follows.  **Note that, again, there are better ways to do this!**"
   ]
  },
  {
   "cell_type": "code",
   "execution_count": null,
   "metadata": {},
   "outputs": [],
   "source": [
    "def print_time(time):\n",
    "    print(f\"Time({time.hours}, {time.minutes}, {time.seconds})\")"
   ]
  },
  {
   "cell_type": "code",
   "execution_count": null,
   "metadata": {},
   "outputs": [],
   "source": [
    "lap = Time(3, 4, 0)\n",
    "print_time(lap)"
   ]
  },
  {
   "cell_type": "markdown",
   "metadata": {},
   "source": [
    "* That's nice!  The `Time` object is printed in the same way it was created.\n",
    "* But, how an object prints itself should be part of the **behaviour** defined in the object's class. \n",
    "* The special method `__repr__` is used to make a **string representation** of an object.\n",
    "* It will be called upon, whenever a string version of the object is needed.\n",
    "* Let's define it as part of the `Time` class."
   ]
  },
  {
   "cell_type": "code",
   "execution_count": null,
   "metadata": {},
   "outputs": [],
   "source": [
    "class Time:\n",
    "    def __init__(self, hours, minutes, seconds):\n",
    "        self.hours = hours\n",
    "        self.minutes = minutes\n",
    "        self.seconds = seconds\n",
    "    def __repr__(self):\n",
    "        return f\"Time({self.hours}, {self.minutes}, {self.seconds})\"\n",
    "    def __str__(self):\n",
    "        return f\"{self.hours}h {self.minutes}m {self.seconds}s\""
   ]
  },
  {
   "cell_type": "code",
   "execution_count": null,
   "metadata": {},
   "outputs": [],
   "source": [
    "lap = Time(1, 2, 5.8)\n",
    "print(lap)\n",
    "lap"
   ]
  },
  {
   "cell_type": "markdown",
   "metadata": {},
   "source": [
    "### Implementing Object Behaviour as Methods\n",
    "\n",
    "* Other useful object behaviour can be defined as methods in the class.\n",
    "* For example, a way to express the time in terms of seconds only.\n",
    "* **Creativity Alert:** How should we call this method? `as_seconds` or `to_seconds`?  Perhaps `lap.in_seconds()` has a nice ring to it ..."
   ]
  },
  {
   "cell_type": "code",
   "execution_count": null,
   "metadata": {},
   "outputs": [],
   "source": [
    "class Time:\n",
    "    def __init__(self, hours, minutes, seconds):\n",
    "        self.hours = hours\n",
    "        self.minutes = minutes\n",
    "        self.seconds = seconds\n",
    "    def __repr__(self):\n",
    "        return f\"Time({self.hours}, {self.minutes}, {self.seconds})\"\n",
    "    def in_seconds(self):\n",
    "        return (self.hours * 60 + self.minutes) * 60 + self.seconds"
   ]
  },
  {
   "cell_type": "code",
   "execution_count": null,
   "metadata": {},
   "outputs": [],
   "source": [
    "lap = Time(1, 2, 5.8)\n",
    "lap.in_seconds()"
   ]
  },
  {
   "cell_type": "markdown",
   "metadata": {},
   "source": [
    "### Operator Overloading\n",
    "\n",
    "* Perhaps it makes sense to compute the **sum** of two `Time` measurements.\n",
    "* A function that does this might look as follows.  **Note that there are better ways to do this!**"
   ]
  },
  {
   "cell_type": "code",
   "execution_count": null,
   "metadata": {},
   "outputs": [],
   "source": [
    "def sum_times(time1, time2):\n",
    "    return Time(time1.hours + time2.hours, time1.minutes + time2.minutes, time1.seconds + time2.seconds)"
   ]
  },
  {
   "cell_type": "code",
   "execution_count": null,
   "metadata": {},
   "outputs": [],
   "source": [
    "lap1 = Time(1, 11, 1)\n",
    "lap2 = Time(2, 51, 10.1)\n",
    "time = sum_times(lap1, lap2)\n",
    "print(time)"
   ]
  },
  {
   "cell_type": "markdown",
   "metadata": {},
   "source": [
    "* Oh!  There are carries to be taken care of ... Let's worry about them later.\n",
    "* First, the way how `Time` objects are added should be part of the behaviour defined in the object's class.\n",
    "* The special method `__add__` can be used to define the sum of two `Time` objects.\n",
    "* Such a method takes two arguments, `self` and let's call the other argument `other`."
   ]
  },
  {
   "cell_type": "code",
   "execution_count": null,
   "metadata": {},
   "outputs": [],
   "source": [
    "class Time:\n",
    "    def __init__(self, hours, minutes, seconds):\n",
    "        self.hours = hours\n",
    "        self.minutes = minutes\n",
    "        self.seconds = seconds\n",
    "    def __repr__(self):\n",
    "        return f\"Time({self.hours}, {self.minutes}, {self.seconds})\"\n",
    "    def in_seconds(self):\n",
    "        return (self.hours * 60 + self.minutes) * 60 + self.seconds\n",
    "    def __add__(self, other):\n",
    "        return Time(self.hours + other.hours, self.minutes + other.minutes, self.seconds + other.seconds)"
   ]
  },
  {
   "cell_type": "code",
   "execution_count": null,
   "metadata": {},
   "outputs": [],
   "source": [
    "lap1 = Time(1, 11, 1)\n",
    "lap2 = Time(2, 51, 10.1)\n",
    "print(lap1 + lap2)"
   ]
  },
  {
   "cell_type": "markdown",
   "metadata": {},
   "source": [
    "### Static Methods\n",
    "\n",
    "* To overcome the problem with carries, let's first find a way to convert a total number of seconds back into hours, minutes, and seconds.\n",
    "* Keeping in mind that a minute is $60$ seconds, and that an hour is $60$ minutes, this is done with quotients and remainders of division by $60$.\n",
    "* Luckily, the operations `//` and `%` we used for **integer** quotients and remainders also work when the number of seconds is a `float` number."
   ]
  },
  {
   "cell_type": "code",
   "execution_count": null,
   "metadata": {},
   "outputs": [],
   "source": [
    "total = lap.in_seconds()\n",
    "total"
   ]
  },
  {
   "cell_type": "code",
   "execution_count": null,
   "metadata": {},
   "outputs": [],
   "source": [
    "total // 60, total % 60"
   ]
  },
  {
   "cell_type": "markdown",
   "metadata": {},
   "source": [
    "* Python provides a builtin function `divmod` that computes both quotient and remainder in one go."
   ]
  },
  {
   "cell_type": "code",
   "execution_count": null,
   "metadata": {},
   "outputs": [],
   "source": [
    "mins, secs = divmod(total, 60)\n",
    "mins, secs"
   ]
  },
  {
   "cell_type": "markdown",
   "metadata": {},
   "source": [
    "* Perhaps, to bring them closer to their original values, it's better to `round` the secends to $3$ decimal places, and to convert the minutes into `int`."
   ]
  },
  {
   "cell_type": "code",
   "execution_count": null,
   "metadata": {},
   "outputs": [],
   "source": [
    "int(mins), round(secs, 3)"
   ]
  },
  {
   "cell_type": "markdown",
   "metadata": {},
   "source": [
    "* So we can apply quotients and remainders twice and wrap this algorithm into a function `hms`:"
   ]
  },
  {
   "cell_type": "code",
   "execution_count": null,
   "metadata": {},
   "outputs": [],
   "source": [
    "def hms(seconds):\n",
    "    mins, secs = divmod(seconds, 60)\n",
    "    hrs, mins = divmod(int(mins), 60)\n",
    "    return hrs, mins, round(secs, 3)"
   ]
  },
  {
   "cell_type": "code",
   "execution_count": null,
   "metadata": {},
   "outputs": [],
   "source": [
    "hms(total)"
   ]
  },
  {
   "cell_type": "markdown",
   "metadata": {},
   "source": [
    "* Perhaps there is a shorter way ..."
   ]
  },
  {
   "cell_type": "code",
   "execution_count": null,
   "metadata": {},
   "outputs": [],
   "source": [
    "def hms(seconds):\n",
    "    mins, secs = divmod(seconds, 60)\n",
    "    return divmod(int(mins), 60), round(secs, 3)"
   ]
  },
  {
   "cell_type": "code",
   "execution_count": null,
   "metadata": {},
   "outputs": [],
   "source": [
    "hms(total)"
   ]
  },
  {
   "cell_type": "markdown",
   "metadata": {},
   "source": [
    "* Oops, that's one pair of parenthesis too many.\n",
    "* How do you get rid of them?  List unpacking ..."
   ]
  },
  {
   "cell_type": "code",
   "execution_count": null,
   "metadata": {},
   "outputs": [],
   "source": [
    "def hms(seconds):\n",
    "    mins, secs = divmod(seconds, 60)\n",
    "    return *divmod(int(mins), 60), round(secs, 3)"
   ]
  },
  {
   "cell_type": "code",
   "execution_count": null,
   "metadata": {},
   "outputs": [],
   "source": [
    "hms(total)"
   ]
  },
  {
   "cell_type": "markdown",
   "metadata": {},
   "source": [
    "* Note how `hms`, although it is related to `Time` objects, does not actually deal with a `Time` object.\n",
    "* In particular, `hms` is not a `Time` **method** and it does not need a formal argument `self`.\n",
    "* But we can still incorporate this as a **static method** into the `Time` class.\n",
    "* Then, putting it all together, the sum of two time objects `self` and `other` can be computed as\n",
    "  ```python\n",
    "  Time(*Time.hms(self.in_seconds() + other.in_seconds()))\n",
    "  ```"
   ]
  },
  {
   "cell_type": "code",
   "execution_count": null,
   "metadata": {},
   "outputs": [],
   "source": [
    "class Time:\n",
    "    def __init__(self, hours, minutes, seconds):\n",
    "        self.hours = hours\n",
    "        self.minutes = minutes\n",
    "        self.seconds = seconds\n",
    "    def __repr__(self):\n",
    "        return f\"Time({self.hours}, {self.minutes}, {self.seconds})\"\n",
    "    def in_seconds(self):\n",
    "        return (self.hours * 60 + self.minutes) * 60 + self.seconds\n",
    "    @staticmethod\n",
    "    def hms(seconds):\n",
    "        mins, secs = divmod(seconds, 60)\n",
    "        return *divmod(int(mins), 60), round(secs, 3)    \n",
    "    def __add__(self, other):\n",
    "        return Time(*hms(self.in_seconds() + other.in_seconds()))"
   ]
  },
  {
   "cell_type": "code",
   "execution_count": null,
   "metadata": {},
   "outputs": [],
   "source": [
    "lap1 = Time(1, 11, 1)\n",
    "lap2 = Time(2, 51, 10.1)\n",
    "print(lap1 + lap2)"
   ]
  },
  {
   "cell_type": "markdown",
   "metadata": {},
   "source": [
    "* Some further improvements:\n",
    "* On second thought, the method `in_seconds` simply converts a `Time` object into a number of type `float`.\n",
    "* We might as well call the method `float` then, or rather `__float__`, which is used internally by the `float()` type conversion.\n",
    "* Then the sum of two time objects `self` and `other` can simply be computed as\n",
    "  ```python\n",
    "  Time(*Time.hms(float(self) + float(other)))\n",
    "  ```\n",
    "* Similarly, if `other` is a number, the `other`-multiple of a `Time` object `self` can be computed as\n",
    "  ```python\n",
    "  Time(*Time.hms(other * float(self)))\n",
    "  ```\n",
    "* After implementing this as special method `__rmul__` (for right-multiply), we can double a `lap` time simply as `2 * lap` ... "
   ]
  },
  {
   "cell_type": "code",
   "execution_count": null,
   "metadata": {},
   "outputs": [],
   "source": [
    "class Time:\n",
    "    def __init__(self, hours, minutes, seconds):\n",
    "        self.hours = int(hours)\n",
    "        self.minutes = int(minutes)\n",
    "        self.seconds = round(float(seconds), 3)\n",
    "    def __repr__(self):\n",
    "        return f\"Time({self.hours}, {self.minutes}, {self.seconds})\"\n",
    "    def __float__(self):\n",
    "        return (self.hours * 60 + self.minutes) * 60 + self.seconds\n",
    "    @staticmethod\n",
    "    def hms(seconds):\n",
    "        mins, secs = divmod(seconds, 60)\n",
    "        return *divmod(mins, 60), secs   \n",
    "    def __add__(self, other):\n",
    "        return Time(*hms(float(self) + float(other)))\n",
    "    def __rmul__(self, other):\n",
    "        return Time(*hms(other * float(self)))"
   ]
  },
  {
   "cell_type": "code",
   "execution_count": null,
   "metadata": {},
   "outputs": [],
   "source": [
    "lap1 = Time(1, 11, 1)\n",
    "lap2 = Time(2, 51, 10.1)\n",
    "print(lap1 + lap2)"
   ]
  },
  {
   "cell_type": "code",
   "execution_count": null,
   "metadata": {},
   "outputs": [],
   "source": [
    "2 * lap2"
   ]
  },
  {
   "cell_type": "markdown",
   "metadata": {},
   "source": [
    "* There might be other useful behaviour (and arithmetic) to implement.  See the Exercises below for suggestions ..."
   ]
  },
  {
   "cell_type": "markdown",
   "metadata": {},
   "source": [
    "## Vectors"
   ]
  },
  {
   "cell_type": "markdown",
   "metadata": {},
   "source": [
    "* A **vector** (of dimension $n$) is a sequence of numbers $(a_1, a_2, \\dots, a_n)$.\n",
    "* Vectors can be **scaled** by a number: $c \\cdot (a_1, a_2, \\dots, a_n) = (c \\cdot a_1, c \\cdot a_2, \\dots, c \\cdot a_n)$.\n",
    "* Two vectors can be added: $(a_1, a_2, \\dots, a_n) + (b_1, b_2, \\dots, b_n) = (a_1 + b_1, a_2 + b_2, \\dots, a_n + b_n)$.\n",
    "* In python, a vector can be represented by a list, or a tuple."
   ]
  },
  {
   "cell_type": "code",
   "execution_count": null,
   "metadata": {},
   "outputs": [],
   "source": [
    "a = [1, 2, 3]\n",
    "b = (4, 5, 6, 7)\n",
    "print(a)\n",
    "print(b)"
   ]
  },
  {
   "cell_type": "markdown",
   "metadata": {},
   "source": [
    "* **Problem:** Both lists and tuples do not behave like vectors under addition and multiplication."
   ]
  },
  {
   "cell_type": "code",
   "execution_count": null,
   "metadata": {},
   "outputs": [],
   "source": [
    "print(2 * a)\n",
    "print(b + b)"
   ]
  },
  {
   "cell_type": "markdown",
   "metadata": {},
   "source": [
    "* **Solution:** Make a `Vector` class and define a taylor made arithmetic.\n",
    "* We start, as before, with just the constructor `__init__` and a method `__repr__` for printing."
   ]
  },
  {
   "cell_type": "code",
   "execution_count": null,
   "metadata": {},
   "outputs": [],
   "source": [
    "class Vector:\n",
    "    def __init__(self, data):\n",
    "        self.data = data\n",
    "    def __repr__(self):\n",
    "        return f\"Vector({self.data})\""
   ]
  },
  {
   "cell_type": "markdown",
   "metadata": {},
   "source": [
    "* Test Drive."
   ]
  },
  {
   "cell_type": "code",
   "execution_count": null,
   "metadata": {},
   "outputs": [],
   "source": [
    "Vector([1,2,3])"
   ]
  },
  {
   "cell_type": "code",
   "execution_count": null,
   "metadata": {},
   "outputs": [],
   "source": [
    "Vector((1,2,3))"
   ]
  },
  {
   "cell_type": "markdown",
   "metadata": {},
   "source": [
    "* It works. But ...\n",
    "* Wouldn't it be nice to be able to simply write\n",
    "  ```python\n",
    "  v = Vector(1,2,3)\n",
    "  ```\n",
    "  and omit one pair of parentheses?\n",
    "* It's just a small thing but small things add up ...\n",
    "* Variable arguments to the rescue! (The `*` operator.)"
   ]
  },
  {
   "cell_type": "code",
   "execution_count": null,
   "metadata": {},
   "outputs": [],
   "source": [
    "class Vector:\n",
    "    def __init__(self, *data):\n",
    "        self.data = data\n",
    "    def __repr__(self):\n",
    "        return f\"Vector{self.data}\""
   ]
  },
  {
   "cell_type": "code",
   "execution_count": null,
   "metadata": {},
   "outputs": [],
   "source": [
    "Vector(1,2,3)"
   ]
  },
  {
   "cell_type": "markdown",
   "metadata": {},
   "source": [
    "* Now for the arithmetic.\n",
    "* Sums first ..."
   ]
  },
  {
   "cell_type": "code",
   "execution_count": null,
   "metadata": {},
   "outputs": [],
   "source": [
    "def vector_sum(a, b):\n",
    "    c = []\n",
    "    for i in range(len(a.data)):\n",
    "        c.append(a.data[i] + b.data[i])\n",
    "    return Vector(*c)"
   ]
  },
  {
   "cell_type": "code",
   "execution_count": null,
   "metadata": {},
   "outputs": [],
   "source": [
    "v = Vector(1,2,3)\n",
    "w = Vector(4,5,6)\n",
    "vector_sum(v, w)"
   ]
  },
  {
   "cell_type": "markdown",
   "metadata": {},
   "source": [
    "* We could skip one level of complexity, if `Vector` objects knew how to **behave like lists**.\n",
    "* That is if `len(v)` for a `Vector` object `v` would give `len(v.data)`.\n",
    "* And even `v[i]` could be used instead of `v.data[i]`.\n",
    "* Well, all of this can be done, through special functions `__len__` and `__getitem__`"
   ]
  },
  {
   "cell_type": "code",
   "execution_count": null,
   "metadata": {},
   "outputs": [],
   "source": [
    "class Vector:\n",
    "    def __init__(self, *data):\n",
    "        self.data = data\n",
    "    def __repr__(self):\n",
    "        return f\"Vector{self.data}\"\n",
    "    def __len__(self):\n",
    "        return len(self.data)\n",
    "    def __getitem__(self, i):\n",
    "        return self.data[i]"
   ]
  },
  {
   "cell_type": "code",
   "execution_count": null,
   "metadata": {},
   "outputs": [],
   "source": [
    "v = Vector(1,2,3)\n",
    "print(len(v))\n",
    "print(v[1])"
   ]
  },
  {
   "cell_type": "markdown",
   "metadata": {},
   "source": [
    "* Now we can write the function `vector_sum` more succinctly as follows. "
   ]
  },
  {
   "cell_type": "code",
   "execution_count": null,
   "metadata": {},
   "outputs": [],
   "source": [
    "def vector_sum(a, b):\n",
    "    c = []\n",
    "    for i in range(len(a)):\n",
    "        c.append(a[i] + b[i])\n",
    "    return Vector(*c)"
   ]
  },
  {
   "cell_type": "code",
   "execution_count": null,
   "metadata": {},
   "outputs": [],
   "source": [
    "v = Vector(1,2,3)\n",
    "w = Vector(4,5,6)\n",
    "vector_sum(v, w)"
   ]
  },
  {
   "cell_type": "markdown",
   "metadata": {},
   "source": [
    "* Perhaps an even more compact version can be found with the help of **list comprehension**...\n",
    "* Recall `zip`:"
   ]
  },
  {
   "cell_type": "code",
   "execution_count": null,
   "metadata": {},
   "outputs": [],
   "source": [
    "list(zip(v.data, w.data))"
   ]
  },
  {
   "cell_type": "code",
   "execution_count": null,
   "metadata": {},
   "outputs": [],
   "source": [
    "print(v.data)\n",
    "print(w.data)"
   ]
  },
  {
   "cell_type": "code",
   "execution_count": null,
   "metadata": {},
   "outputs": [],
   "source": [
    "list(zip(v, w))"
   ]
  },
  {
   "cell_type": "markdown",
   "metadata": {},
   "source": [
    "* List comprehension:"
   ]
  },
  {
   "cell_type": "code",
   "execution_count": null,
   "metadata": {},
   "outputs": [],
   "source": [
    "[x + y for x, y in zip(v, w)]"
   ]
  },
  {
   "cell_type": "code",
   "execution_count": null,
   "metadata": {},
   "outputs": [],
   "source": [
    "Vector(*[x + y for x, y in zip(v, w)])"
   ]
  },
  {
   "cell_type": "markdown",
   "metadata": {},
   "source": [
    "* So here is a compact function for the sum of two vectors."
   ]
  },
  {
   "cell_type": "code",
   "execution_count": null,
   "metadata": {},
   "outputs": [],
   "source": [
    "def vector_sum(a, b):\n",
    "    return Vector(*[x + y for x, y in zip(a, b)])"
   ]
  },
  {
   "cell_type": "code",
   "execution_count": null,
   "metadata": {},
   "outputs": [],
   "source": [
    "v = Vector(1,2,3)\n",
    "w = Vector(4,5,6)\n",
    "vector_sum(v, w)"
   ]
  },
  {
   "cell_type": "markdown",
   "metadata": {},
   "source": [
    "* Works.  But ...\n",
    "* Wouldn't it be nice if we could just write `v + w` for the sum?\n",
    "* So we implement this vector sum as special method `__add__`!"
   ]
  },
  {
   "cell_type": "code",
   "execution_count": null,
   "metadata": {},
   "outputs": [],
   "source": [
    "class Vector:\n",
    "    def __init__(self, *data):\n",
    "        self.data = data\n",
    "    def __repr__(self):\n",
    "        return f\"Vector{self.data}\"\n",
    "    def __len__(self):\n",
    "        return len(self.data)\n",
    "    def __getitem__(self, i):\n",
    "        return self.data[i]\n",
    "    def __add__(self, other):\n",
    "        return Vector(*[x + y for x, y in zip(self, other)])"
   ]
  },
  {
   "cell_type": "code",
   "execution_count": null,
   "metadata": {},
   "outputs": [],
   "source": [
    "v = Vector(1,2,3)\n",
    "w = Vector(4,5,6)\n",
    "v + w"
   ]
  },
  {
   "cell_type": "markdown",
   "metadata": {},
   "source": [
    "* Scalar Multiplication next. Same ideas, just one vector involved.\n",
    "* List comprehension again ..."
   ]
  },
  {
   "cell_type": "code",
   "execution_count": null,
   "metadata": {},
   "outputs": [],
   "source": [
    "c = 5\n",
    "[c * x for x in v]"
   ]
  },
  {
   "cell_type": "markdown",
   "metadata": {},
   "source": [
    "* We can turn this into a function `scaled_vector` that computes the `c`-multiple of a vector `v`."
   ]
  },
  {
   "cell_type": "code",
   "execution_count": null,
   "metadata": {},
   "outputs": [],
   "source": [
    "def scaled_vector(c, v):\n",
    "    return Vector(*[c * x for x in v])"
   ]
  },
  {
   "cell_type": "code",
   "execution_count": null,
   "metadata": {},
   "outputs": [],
   "source": [
    "scaled_vector(6, w)"
   ]
  },
  {
   "cell_type": "markdown",
   "metadata": {},
   "source": [
    "* Again, it would be more convenient, if we could just write `c * v` for the **right multiplication** of the vector `v` with the scalar `c` ..."
   ]
  },
  {
   "cell_type": "code",
   "execution_count": null,
   "metadata": {},
   "outputs": [],
   "source": [
    "class Vector:\n",
    "    def __init__(self, *data):\n",
    "        self.data = data\n",
    "    def __repr__(self):\n",
    "        return f\"Vector{self.data}\"\n",
    "    def __len__(self):\n",
    "        return len(self.data)\n",
    "    def __getitem__(self, i):\n",
    "        return self.data[i]\n",
    "    def __add__(self, other):\n",
    "        return Vector(*[x + y for x, y in zip(self, other)])\n",
    "    def __rmul__(self, other):\n",
    "        return Vector(*[other * x for x in self])"
   ]
  },
  {
   "cell_type": "markdown",
   "metadata": {},
   "source": [
    "* Now we can write true **linear combinations** of vectors:"
   ]
  },
  {
   "cell_type": "code",
   "execution_count": null,
   "metadata": {},
   "outputs": [],
   "source": [
    "u = Vector(1,0,0)\n",
    "v = Vector(0,1,0)\n",
    "w = Vector(0,0,1)\n",
    "6*u + 2*v + 3*w"
   ]
  },
  {
   "cell_type": "markdown",
   "metadata": {},
   "source": [
    "* There might be other useful behaviour (and arithmetic) to implement.  See the Exercises below for suggestions ..."
   ]
  },
  {
   "cell_type": "markdown",
   "metadata": {},
   "source": [
    "## Summary\n",
    "\n",
    "* A class is a user-defined **data type**.\n",
    "* An object is an instance of a class.\n",
    "* Objects have individual (data) attributes and methods that act on those.\n",
    "* Both attributes and methods are accessed through the dot operator: like `obj.attribute` and `obj.method()`\n",
    "* Useful object behaviour can be implemented as **special methods**."
   ]
  },
  {
   "cell_type": "markdown",
   "metadata": {},
   "source": [
    "## References"
   ]
  },
  {
   "cell_type": "markdown",
   "metadata": {},
   "source": [
    "### Python\n",
    "\n",
    "* Python [Classes](https://docs.python.org/3/tutorial/classes.html) Tutorial\n",
    "* [`divmod`](https://docs.python.org/3/library/functions.html#divmod)\n",
    "* [`round`](https://docs.python.org/3/library/functions.html#round)\n",
    "* Python's [Magic Methods](https://realpython.com/python-magic-methods/)\n",
    "* The [datetime](https://docs.python.org/3/library/datetime.html) library has a class for `timedelta` objects."
   ]
  },
  {
   "cell_type": "markdown",
   "metadata": {},
   "source": [
    "## Exercises"
   ]
  },
  {
   "cell_type": "markdown",
   "metadata": {},
   "source": [
    "* Define $3$ `Time` objects `h`, `m` and `s` so that an expression like `h + 2 * m + 3 * s` gives `Time(1, 2, 3)`"
   ]
  },
  {
   "cell_type": "code",
   "execution_count": null,
   "metadata": {},
   "outputs": [],
   "source": []
  },
  {
   "cell_type": "markdown",
   "metadata": {},
   "source": [
    "* In the `Time` class, define a method `__neg__` that return the **negative** of a given `Time` object."
   ]
  },
  {
   "cell_type": "code",
   "execution_count": null,
   "metadata": {},
   "outputs": [],
   "source": []
  },
  {
   "cell_type": "markdown",
   "metadata": {},
   "source": [
    "* If `t = Time(1, 1, 1)`, what is `-t`?"
   ]
  },
  {
   "cell_type": "code",
   "execution_count": null,
   "metadata": {},
   "outputs": [],
   "source": []
  },
  {
   "cell_type": "markdown",
   "metadata": {},
   "source": [
    "* If `t1 = Time(1, 0, 0)`, what is `t - t1`?"
   ]
  },
  {
   "cell_type": "code",
   "execution_count": null,
   "metadata": {},
   "outputs": [],
   "source": []
  },
  {
   "cell_type": "markdown",
   "metadata": {},
   "source": [
    "* In the `Vector` class, define a method `__neg__` so that it returns the **negative** of a `Vector` object `v`, perhaps as `-1 * v` ..."
   ]
  },
  {
   "cell_type": "code",
   "execution_count": null,
   "metadata": {},
   "outputs": [],
   "source": []
  },
  {
   "cell_type": "markdown",
   "metadata": {},
   "source": [
    "* In the `Vector` class, define a method `__sub__` that returns the difference of two `Vector` objects `self` and `other`, perhaps as `self + (-other)` ..."
   ]
  },
  {
   "cell_type": "code",
   "execution_count": null,
   "metadata": {},
   "outputs": [],
   "source": []
  },
  {
   "cell_type": "markdown",
   "metadata": {},
   "source": [
    "* The **inner product** of two vectors $(a_1, a_2, \\dots, a_n)$ and $(b_1, b_2, \\dots, b_n)$ is the number\n",
    " $$\n",
    "a_1 b_1 + a_2 b_2 + \\dots + a_n b_n\n",
    " $$\n",
    "Check the python [documentation](https://docs.python.org/3/reference/datamodel.html#emulating-numeric-types) to find out which special function needs to be implemented, so that the expression `v & w` gives the inner product of the `Vector` objects `v` and `w` and implement such a function."
   ]
  },
  {
   "cell_type": "code",
   "execution_count": null,
   "metadata": {},
   "outputs": [],
   "source": []
  },
  {
   "cell_type": "markdown",
   "metadata": {},
   "source": [
    "* Test the new `Vector` arithmetic on examples."
   ]
  },
  {
   "cell_type": "code",
   "execution_count": null,
   "metadata": {},
   "outputs": [],
   "source": []
  }
 ],
 "metadata": {
  "kernelspec": {
   "display_name": "Python 3 (ipykernel)",
   "language": "python",
   "name": "python3"
  },
  "language_info": {
   "codemirror_mode": {
    "name": "ipython",
    "version": 3
   },
   "file_extension": ".py",
   "mimetype": "text/x-python",
   "name": "python",
   "nbconvert_exporter": "python",
   "pygments_lexer": "ipython3",
   "version": "3.12.3"
  }
 },
 "nbformat": 4,
 "nbformat_minor": 4
}
