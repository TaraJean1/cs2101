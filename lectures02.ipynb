{
 "cells": [
  {
   "cell_type": "markdown",
   "metadata": {},
   "source": [
    "## CS2101 - Programming for Science and Finance\n",
    "Prof. Götz Pfeiffer<br />\n",
    "School of Mathematical and Statistical Sciences<br />\n",
    "University of Galway\n",
    "\n",
    "***"
   ]
  },
  {
   "cell_type": "markdown",
   "metadata": {},
   "source": [
    "### Elements of Python\n",
    "# Week 2: Further Python"
   ]
  },
  {
   "cell_type": "markdown",
   "metadata": {},
   "source": [
    "## Function Definitions"
   ]
  },
  {
   "cell_type": "markdown",
   "metadata": {},
   "source": [
    "* Python allows a user to define their own functions and thus extend and customise functionality to their needs.\n",
    "* In python, a function is a **named** sequence of **statements**, which optionally has one or more **parameters**, and optionally **returns** a value.\n",
    "* A **function definition** has the usual form of a header (starting with the keyword `def`) followed by an indented block of statements:\n",
    "  ```python\n",
    "  def <name-of-function> ( <parameters> ) :\n",
    "      <block>\n",
    "  ```\n",
    "* After its definition, a function can be called by its name, with parameters replaced by explicit arguments."
   ]
  },
  {
   "cell_type": "markdown",
   "metadata": {},
   "source": [
    "* Functions help to avoid code repetition.  (DRY: Don't Repeat Yourself)\n",
    "* Functions can be used to break big tasks into smaller, manageable pieces.\n",
    "* If used well, and appropriately named, functions can increase the readability of a program."
   ]
  },
  {
   "cell_type": "markdown",
   "metadata": {},
   "source": [
    "* **Example.**  Write a function that takes a student's name, first and last, and computes a login name for their university account.\n",
    "* The login name should consist of the first letter of the student's first name, followed by a period (`.`), followed by up to six letters from their last name, all lower case."
   ]
  },
  {
   "cell_type": "code",
   "execution_count": null,
   "metadata": {},
   "outputs": [],
   "source": [
    "def username(first, last):\n",
    "    name = first[0] + \".\" + last[:6]\n",
    "    name = name.lower()\n",
    "    return name"
   ]
  },
  {
   "cell_type": "code",
   "execution_count": null,
   "metadata": {},
   "outputs": [],
   "source": [
    "uname = username(\"John\", \"Kennedy\")\n",
    "uname"
   ]
  },
  {
   "cell_type": "markdown",
   "metadata": {},
   "source": [
    "* Using f-strings and avoiding repetition this definition can be more compactly written as follows:"
   ]
  },
  {
   "cell_type": "code",
   "execution_count": null,
   "metadata": {},
   "outputs": [],
   "source": [
    "def username(first, last):\n",
    "    return f\"{first[0]}.{last[:6]}\".lower()"
   ]
  },
  {
   "cell_type": "code",
   "execution_count": null,
   "metadata": {},
   "outputs": [],
   "source": [
    "username(\"John\", \"Kennedy\")"
   ]
  },
  {
   "cell_type": "markdown",
   "metadata": {},
   "source": [
    "* Certainly it is possible (and necessary) to further improve the code ...\n",
    "* In general, a python program is a collection of function definitions, designed in such a way that the functions can communicate with each other.\n",
    "* This means in particular:\n",
    "  * function parameters are preferred over getting user input through the `input()` function\n",
    "  * `return` values are preferred over `print` statements\n",
    "* In this way, input and output values always are part of the python session and can be passed from function to function ...\n",
    "* While the overall program can be large, solving a big task, I would try and keep the individual function definitions short. And always use descriptive names."
   ]
  },
  {
   "cell_type": "markdown",
   "metadata": {},
   "source": [
    "## From Algorithm to Function"
   ]
  },
  {
   "cell_type": "markdown",
   "metadata": {},
   "source": [
    "* Recall [**Euclid's Algortihm**](https://en.wikipedia.org/wiki/Euclidean_algorithm) for computing the GCD (greatest common divisor) of two integers.\n",
    "* **Input:** Two integers, $a$ and $b$, not both $0$.\n",
    "* **Output:** $\\gcd(a, b)$, i.e., the largest positive integer $d$ that divides both $a$ and $b$.\n",
    "1. Write $a = bq + r$ with **quotient** $q$ and **remainder** $r$, then replace $(a, b)$ by $(b, r)$.\n",
    "2. Keep repeating step 1. If (eventually) $b = 0$, **stop** and **return** $d = a$."
   ]
  },
  {
   "cell_type": "markdown",
   "metadata": {},
   "source": [
    "* Looks complicated?  Perhaps it's not."
   ]
  },
  {
   "cell_type": "markdown",
   "metadata": {},
   "source": [
    "* **Useful Facts.**\n",
    "\n",
    "1. $\\gcd(a, 0) = a$.\n",
    "2. $\\gcd(a, b) = \\gcd(b, r)$."
   ]
  },
  {
   "cell_type": "markdown",
   "metadata": {},
   "source": [
    "* **Recursive Algorithm.**\n",
    "\n",
    "1. If $b = 0$ then return $d = a$ and stop.\n",
    "2. Else write $a = bq + r$ and use this algorithm to compute and return $d = \\gcd(b, r)$ (and stop).\n",
    "\n",
    "* This description of the algorithm can almost literally be entered as a python function."
   ]
  },
  {
   "cell_type": "code",
   "execution_count": null,
   "metadata": {},
   "outputs": [],
   "source": [
    "def gcd(a, b):\n",
    "    if b == 0:\n",
    "        return a\n",
    "    else:\n",
    "        r = a % b\n",
    "        return gcd(b, r)"
   ]
  },
  {
   "cell_type": "markdown",
   "metadata": {},
   "source": [
    "* Test drive."
   ]
  },
  {
   "cell_type": "code",
   "execution_count": null,
   "metadata": {},
   "outputs": [],
   "source": [
    "gcd(121435, 23456)"
   ]
  },
  {
   "cell_type": "code",
   "execution_count": null,
   "metadata": {},
   "outputs": [],
   "source": [
    "gcd(1233456745321140, 2134256768566575)"
   ]
  },
  {
   "cell_type": "markdown",
   "metadata": {},
   "source": [
    "* Note that computing the remainder `a % b` need not be a separate statement in the function body.\n",
    "* Nor does it need its own variable.\n",
    "* Instead, we can make the remainder an argument of the function call: `gcd(b, a % b)`\n",
    "* Then our implementation of Euclid's algorithm looks as follows:"
   ]
  },
  {
   "cell_type": "code",
   "execution_count": null,
   "metadata": {},
   "outputs": [],
   "source": [
    "def gcd(a, b):\n",
    "    if b == 0:\n",
    "        return a\n",
    "    else:\n",
    "        return gcd(b, a % b)"
   ]
  },
  {
   "cell_type": "code",
   "execution_count": null,
   "metadata": {},
   "outputs": [],
   "source": [
    "gcd(121435, 23456)"
   ]
  },
  {
   "cell_type": "markdown",
   "metadata": {},
   "source": [
    "* Nice!  And it still works.  But there is more that can be done to make this even more concise ..."
   ]
  },
  {
   "cell_type": "markdown",
   "metadata": {},
   "source": [
    "## Conditional Arithmetic"
   ]
  },
  {
   "cell_type": "markdown",
   "metadata": {},
   "source": [
    "* Recall the difference between a **statement** and an **expression** in a (python) program\n",
    "* An expression has a value, i.e., it can be the RHS of an assignment, even if it is a complex formula\n",
    "* A statement is the basic building block of a python program, a function, or the body of any compound statement.\n",
    "* An if statement, for example, is a, well, statement, and not an expression.\n",
    "* Still, it is not uncommon to describe an expression with the help of an if statement.\n",
    "* Absolute value, for example.  As a formula\n",
    "$$\n",
    "|x| = \\begin{cases} x, & x \\geq 0 \\\\ -x, & \\text{else} \\end{cases}\n",
    "$$"
   ]
  },
  {
   "cell_type": "markdown",
   "metadata": {},
   "source": [
    "As a python program:"
   ]
  },
  {
   "cell_type": "code",
   "execution_count": null,
   "metadata": {},
   "outputs": [],
   "source": [
    "def absolute_value(x):\n",
    "    if x >= 0:\n",
    "        return x\n",
    "    else:\n",
    "        return -x\n",
    "        "
   ]
  },
  {
   "cell_type": "code",
   "execution_count": null,
   "metadata": {},
   "outputs": [],
   "source": [
    "print(absolute_value(3))\n",
    "print(absolute_value(-3))"
   ]
  },
  {
   "cell_type": "markdown",
   "metadata": {},
   "source": [
    "* Wouldn't it be nice if there was a way to formulate this as a genuine expression?\n",
    "* Luckily, python has a [conditional operator](https://en.wikipedia.org/wiki/Conditional_operator)"
   ]
  },
  {
   "cell_type": "code",
   "execution_count": null,
   "metadata": {},
   "outputs": [],
   "source": [
    "def magnitude(x):\n",
    "    return x if x >= 0 else -x"
   ]
  },
  {
   "cell_type": "code",
   "execution_count": null,
   "metadata": {},
   "outputs": [],
   "source": [
    "print(magnitude(3))\n",
    "print(magnitude(-3))"
   ]
  },
  {
   "cell_type": "markdown",
   "metadata": {},
   "source": [
    "* Actually, python has already a built-in function `abs` for the absolute value ..."
   ]
  },
  {
   "cell_type": "code",
   "execution_count": null,
   "metadata": {},
   "outputs": [],
   "source": [
    "print(abs(3))\n",
    "print(abs(-3))"
   ]
  },
  {
   "cell_type": "markdown",
   "metadata": {},
   "source": [
    "* Back to Euclid's algorithm.  As a formula, we can write\n",
    "$$\n",
    "\\gcd(a, b) = \\begin{cases} a,& b = 0 \\\\ \\gcd(b, a \\bmod b), & \\text{else}\\end{cases}\n",
    "$$\n",
    "* Using the conditional operator, this gives the following one-liner:"
   ]
  },
  {
   "cell_type": "code",
   "execution_count": null,
   "metadata": {},
   "outputs": [],
   "source": [
    "def gcd(a, b):\n",
    "    return a if b == 0 else gcd(b, a % b)"
   ]
  },
  {
   "cell_type": "code",
   "execution_count": null,
   "metadata": {},
   "outputs": [],
   "source": [
    "gcd(121435, 23456)"
   ]
  },
  {
   "cell_type": "markdown",
   "metadata": {},
   "source": [
    "## List Arithmetic. List Comprehension"
   ]
  },
  {
   "cell_type": "markdown",
   "metadata": {},
   "source": [
    "* Similar considerations apply to lists and loops.\n",
    "* `for` loops are typically used to make new lists from old.  For example squares."
   ]
  },
  {
   "cell_type": "code",
   "execution_count": null,
   "metadata": {},
   "outputs": [],
   "source": [
    "old = range(10)\n",
    "new = []\n",
    "for a in old:\n",
    "    b = a*a\n",
    "    new.append(b)\n",
    "\n",
    "print(list(old))\n",
    "print(new)"
   ]
  },
  {
   "cell_type": "markdown",
   "metadata": {},
   "source": [
    "*  Wouldn't it be nice if we could just write an expression that builds this list of squares?\n",
    "*  **List Comprehension** to the rescue."
   ]
  },
  {
   "cell_type": "code",
   "execution_count": null,
   "metadata": {},
   "outputs": [],
   "source": [
    "[x*x for x in range(10)]"
   ]
  },
  {
   "cell_type": "markdown",
   "metadata": {},
   "source": [
    "* Note how this resembles mathematical set builder notation:\n",
    "$$S = \\{x^2 \\mid x \\in \\{0,\\dots,9\\}\\}$$"
   ]
  },
  {
   "cell_type": "markdown",
   "metadata": {},
   "source": [
    "* Two nested loops give an array, or matrix, or a multiplication table:"
   ]
  },
  {
   "cell_type": "code",
   "execution_count": null,
   "metadata": {},
   "outputs": [],
   "source": [
    "numbers = range(1,11)\n",
    "table = [[x * y for x in numbers] for y in numbers]\n",
    "for row in table:\n",
    "    print(row)"
   ]
  },
  {
   "cell_type": "markdown",
   "metadata": {},
   "source": [
    "* rearrangements"
   ]
  },
  {
   "cell_type": "code",
   "execution_count": null,
   "metadata": {},
   "outputs": [],
   "source": [
    "word = \"apple\""
   ]
  },
  {
   "cell_type": "code",
   "execution_count": null,
   "metadata": {},
   "outputs": [],
   "source": [
    "def swap(word, j):\n",
    "    x = list(word)\n",
    "    x[j-1], x[j] = x[j], x[j-1]\n",
    "    return \"\".join(x)"
   ]
  },
  {
   "cell_type": "code",
   "execution_count": null,
   "metadata": {},
   "outputs": [],
   "source": [
    "swap(word, 1)"
   ]
  },
  {
   "cell_type": "code",
   "execution_count": null,
   "metadata": {},
   "outputs": [],
   "source": [
    "all = [word]\n",
    "for w in all:\n",
    "    for j in range(1,len(w)):\n",
    "        new = swap(w, j)\n",
    "        if not new in all:\n",
    "            all.append(new)\n",
    "\n",
    "len(all)"
   ]
  },
  {
   "cell_type": "code",
   "execution_count": null,
   "metadata": {},
   "outputs": [],
   "source": [
    "print(all)"
   ]
  },
  {
   "cell_type": "code",
   "execution_count": null,
   "metadata": {},
   "outputs": [],
   "source": [
    "all = [word]\n",
    "w = all[0]\n",
    "new = [swap(w, j) for j in range(1, len(w))]\n",
    "all.extend([v for v in new if not v in all])"
   ]
  },
  {
   "cell_type": "code",
   "execution_count": null,
   "metadata": {},
   "outputs": [],
   "source": [
    "all"
   ]
  },
  {
   "cell_type": "code",
   "execution_count": null,
   "metadata": {},
   "outputs": [],
   "source": [
    "all = [word]\n",
    "for w in all:\n",
    "    all.extend(v for v in [swap(w, j) for j in range(1, len(w))] if not v in all)\n",
    "\n",
    "print(all)"
   ]
  },
  {
   "cell_type": "markdown",
   "metadata": {},
   "source": [
    "## Zip"
   ]
  },
  {
   "cell_type": "markdown",
   "metadata": {},
   "source": [
    "* Another useful list tool: `zip` traverses lists in parallel."
   ]
  },
  {
   "cell_type": "code",
   "execution_count": null,
   "metadata": {},
   "outputs": [],
   "source": [
    "names = [\"A\", \"B\", \"C\", \"D\"]\n",
    "marks = [69, 55, 81, 45]\n",
    "list(zip(names, marks))"
   ]
  },
  {
   "cell_type": "markdown",
   "metadata": {},
   "source": [
    "## Lists and Function Calls"
   ]
  },
  {
   "cell_type": "markdown",
   "metadata": {},
   "source": [
    "* Some functions, like `print`, can take any number of arguments.\n",
    "* To use this feature in our own function, we can decorate a parameter name with `*`:"
   ]
  },
  {
   "cell_type": "code",
   "execution_count": null,
   "metadata": {},
   "outputs": [],
   "source": [
    "def multiply(*numbers):\n",
    "    print(numbers)"
   ]
  },
  {
   "cell_type": "markdown",
   "metadata": {},
   "source": [
    "* Inside the function body, this parameter will hold a **list** of argument values that can be looped over"
   ]
  },
  {
   "cell_type": "code",
   "execution_count": null,
   "metadata": {},
   "outputs": [],
   "source": [
    "multiply(4,5,9)\n",
    "multiply()"
   ]
  },
  {
   "cell_type": "code",
   "execution_count": null,
   "metadata": {},
   "outputs": [],
   "source": [
    "list = [4,5,9]"
   ]
  },
  {
   "cell_type": "code",
   "execution_count": null,
   "metadata": {},
   "outputs": [],
   "source": [
    "multiply(*list)"
   ]
  },
  {
   "cell_type": "code",
   "execution_count": null,
   "metadata": {},
   "outputs": [],
   "source": [
    "def multiply(*numbers):\n",
    "    for number in numbers:\n",
    "        print(number)"
   ]
  },
  {
   "cell_type": "code",
   "execution_count": null,
   "metadata": {},
   "outputs": [],
   "source": [
    "multiply(4,5,6)"
   ]
  },
  {
   "cell_type": "code",
   "execution_count": null,
   "metadata": {},
   "outputs": [],
   "source": [
    "multiply()"
   ]
  },
  {
   "cell_type": "code",
   "execution_count": null,
   "metadata": {},
   "outputs": [],
   "source": [
    "def multiply(*numbers):\n",
    "    product = 1\n",
    "    for number in numbers:\n",
    "        product *= number\n",
    "    return product"
   ]
  },
  {
   "cell_type": "code",
   "execution_count": null,
   "metadata": {},
   "outputs": [],
   "source": [
    "multiply(*list)"
   ]
  },
  {
   "cell_type": "markdown",
   "metadata": {},
   "source": [
    "* Note how the final return statement is indented as part of the function body, and not as part of the for loop."
   ]
  },
  {
   "cell_type": "code",
   "execution_count": null,
   "metadata": {},
   "outputs": [],
   "source": [
    "multiply(4,5,9)"
   ]
  },
  {
   "cell_type": "code",
   "execution_count": null,
   "metadata": {},
   "outputs": [],
   "source": [
    "multiply()"
   ]
  },
  {
   "cell_type": "markdown",
   "metadata": {},
   "source": [
    "* This multiple arguments parameter `*args` does the opposite of list unpacking ..."
   ]
  },
  {
   "cell_type": "code",
   "execution_count": null,
   "metadata": {},
   "outputs": [],
   "source": [
    "numbers = [2,5,4,10]\n",
    "multiply(*numbers)"
   ]
  },
  {
   "cell_type": "markdown",
   "metadata": {},
   "source": [
    "***"
   ]
  },
  {
   "cell_type": "code",
   "execution_count": null,
   "metadata": {},
   "outputs": [],
   "source": []
  },
  {
   "cell_type": "markdown",
   "metadata": {},
   "source": [
    "## Summary\n",
    "\n",
    "* A **function** is a named block of code, with optional **parameters** and **return value** that only runs when called.\n",
    "* **Functions**  are at the core of programming in python.\n",
    "* A Python program usually is a collection of functions that communicate with each other.\n",
    "* In python, nmore ofthen than not, a **short** function definition solves a complex problem.\n",
    "* Some `if` **statements** are really just **conditional expressions**.\n",
    "* Some `for` **loops** can be more concisely expressed as **list comprehensions**.\n",
    "* The `zip` command traverses lists in parallel.\n",
    "* Functions can have a **variable number of arguments**.\n",
    "* **List unpacking** turns a single list into its various elements."
   ]
  },
  {
   "cell_type": "markdown",
   "metadata": {},
   "source": [
    "## References"
   ]
  },
  {
   "cell_type": "markdown",
   "metadata": {},
   "source": [
    "### Python\n",
    "\n",
    "* [Defining Your Own Pyton Function](https://realpython.com/defining-your-own-python-function/)\n",
    "* [Ternary Operator in Python](https://www.geeksforgeeks.org/ternary-operator-in-python/)\n",
    "* [List Comprehension](https://www.w3schools.com/Python/python_lists_comprehension.asp)\n",
    "* [zip](https://docs.python.org/3.3/library/functions.html#zip)\n",
    "* List [unpacking](https://www.pythontutorial.net/python-basics/python-unpack-list/)"
   ]
  },
  {
   "cell_type": "markdown",
   "metadata": {},
   "source": [
    "## Exercises"
   ]
  },
  {
   "cell_type": "markdown",
   "metadata": {},
   "source": [
    "* Write a short function that computes the [**signum**](https://en.wikipedia.org/wiki/Sign_function) $\\mathrm{sgn}(x)$ of a number $x$, defined as\n",
    "  $$\n",
    "  \\mathrm{sgn}(x) = \\begin{cases} +1,& x>0,\\\\ -1,& x<0, \\\\ 0,& \\text{else} \\end{cases}\n",
    "  $$\n",
    "  Here, 'short' means approximately one line of code."
   ]
  },
  {
   "cell_type": "code",
   "execution_count": null,
   "metadata": {},
   "outputs": [],
   "source": []
  },
  {
   "cell_type": "markdown",
   "metadata": {},
   "source": [
    "* According to Bézout's identity, the gcd $d$ of integers $a$ and $b$ can be expressed as a linear combination of $a$ and $b$:\n",
    "   $$d = ax + by$$\n",
    "  for integers $x$ and $y$.  Now, if $a = bq + r$, then $d = \\gcd(b, r)$ can be expressed as $d = bs + rt$ for integers $r$ and $s$.  Conclude that $x = t$ and $y = s - qt$.  Together with the observation that $d = a = 1 \\cdot a + 0 \\cdot b$ if $b = 0$, write a short function that computes the [extended gcd](https://en.wikipedia.org/wiki/Extended_Euclidean_algorithm), i.e., the coefficients $x$ and $y$, of two integers $a$ and $b$, not both $0$."
   ]
  },
  {
   "cell_type": "code",
   "execution_count": null,
   "metadata": {},
   "outputs": [],
   "source": [
    "def gcdex(a, b):\n",
    "    if b == 0: return 1, 0\n",
    "    q, r = divmod(a, b)\n",
    "    s, t = gcdex(b, r)\n",
    "    return t, s - q * t"
   ]
  },
  {
   "cell_type": "code",
   "execution_count": null,
   "metadata": {},
   "outputs": [],
   "source": [
    "a, b = 121435, 23456\n",
    "s, t = gcdex(a, b)\n",
    "print(s, t)\n",
    "print (s*a + t*b)"
   ]
  },
  {
   "cell_type": "markdown",
   "metadata": {},
   "source": [
    "* Wouldn't it be nice to be able to see all the intermediate steps?  Later ..."
   ]
  },
  {
   "cell_type": "markdown",
   "metadata": {},
   "source": [
    "* Write a short function `multiple`, which takes a number `c` and a list `numbers` as input, and computes and returns the list of all numbers, multiplied by `c`."
   ]
  },
  {
   "cell_type": "code",
   "execution_count": null,
   "metadata": {},
   "outputs": [],
   "source": []
  },
  {
   "cell_type": "markdown",
   "metadata": {},
   "source": [
    "* Write a short function `sum_lists` which takes two lists $a = (a_0, a_1, \\dots, a_k)$ and $b = (b_0, b_1, \\dots, b_k)$ of numbers (of the same length) as input, and computes and returns the list $(a_0 + b_0, a_1 + b_1, \\dots, a_k + b_k)$ of sums of corresponding elements."
   ]
  },
  {
   "cell_type": "code",
   "execution_count": null,
   "metadata": {},
   "outputs": [],
   "source": []
  }
 ],
 "metadata": {
  "kernelspec": {
   "display_name": "Python 3 (ipykernel)",
   "language": "python",
   "name": "python3"
  },
  "language_info": {
   "codemirror_mode": {
    "name": "ipython",
    "version": 3
   },
   "file_extension": ".py",
   "mimetype": "text/x-python",
   "name": "python",
   "nbconvert_exporter": "python",
   "pygments_lexer": "ipython3",
   "version": "3.12.3"
  }
 },
 "nbformat": 4,
 "nbformat_minor": 4
}
